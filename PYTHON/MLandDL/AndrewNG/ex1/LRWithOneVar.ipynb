{
 "cells": [
  {
   "cell_type": "markdown",
   "metadata": {
    "pycharm": {
     "name": "#%% md\n"
    }
   },
   "source": [
    "Linear Regression with One Variable\n",
    "Andrew NG MachineLearning-chapter2"
   ]
  },
  {
   "cell_type": "markdown",
   "metadata": {
    "pycharm": {
     "name": "#%% md\n"
    }
   },
   "source": [
    "数据准备"
   ]
  },
  {
   "cell_type": "code",
   "execution_count": null,
   "metadata": {
    "pycharm": {
     "name": "#%%\n"
    }
   },
   "outputs": [],
   "source": [
    "# data prepare\n",
    "import numpy as np\n",
    "\n",
    "x=np.linspace(5,104,100) #5-104,100个数据\n",
    "\n",
    "y=5*x+7 #房价五万一平，外加7万中介费\n",
    "\n",
    "#各种噪声加加减减\n",
    "np.random.seed(2332);\n",
    "noise = np.random.randn(100)*3\n",
    "noise=np.around(noise,decimals=4)\n",
    "# print(noise)\n",
    "y_noise = y + noise\n",
    "\n",
    "data=[]\n",
    "for index,value in enumerate(y_noise):\n",
    "    # print(value,\",\",x[index])\n",
    "    data.append([value,x[index]])\n",
    "\n",
    "# 或者可以这么写文件\n",
    "data_np = np.array(data)\n",
    "# np.save('house_price_one_np',data_np)\n",
    "np.savetxt('house_price_one_np.txt',data) #支持data或者data_np"
   ]
  },
  {
   "cell_type": "markdown",
   "metadata": {
    "pycharm": {
     "name": "#%% md\n"
    }
   },
   "source": [
    "这里才是正主"
   ]
  },
  {
   "cell_type": "code",
   "execution_count": 4,
   "metadata": {
    "pycharm": {
     "name": "#%%\n"
    }
   },
   "outputs": [
    {
     "name": "stdout",
     "output_type": "stream",
     "text": [
      "[[0.12565387]\n",
      " [1.07152892]]\n",
      "[0.01075083]\n"
     ]
    },
    {
     "data": {
      "text/plain": [
       "[<matplotlib.lines.Line2D at 0x2073fe03708>]"
      ]
     },
     "execution_count": 4,
     "metadata": {},
     "output_type": "execute_result"
    },
    {
     "data": {
      "image/png": "[encoded data removed]",
      "text/plain": [
       "<Figure size 432x288 with 1 Axes>"
      ]
     },
     "metadata": {
      "needs_background": "light"
     },
     "output_type": "display_data"
    }
   ],
   "source": [
    "import numpy as np\n",
    "import matplotlib.pyplot as plt\n",
    "# np的读取方式\n",
    "def load_file(file_name):\n",
    "    if file_name.endswith('.txt'):\n",
    "        return np.loadtxt(file_name)\n",
    "    elif file_name.endswith('.npy'):\n",
    "        return np.load(file_name)\n",
    "    else:\n",
    "        print('unsupport file type')\n",
    "\n",
    "def mean_normalization_min_man(input):\n",
    "    # 数据映射到0-1之间\n",
    "    # out=(x-x_min)/(x_max-x_min)\n",
    "    min=np.min(input)\n",
    "    max=np.max(input)\n",
    "    output=(input-min)/(max-min)\n",
    "    # print(output)\n",
    "    return output\n",
    "\n",
    "# z-score标准化\n",
    "def mean_normalization_z_score(input):\n",
    "    # out=(x-x_mean)/x_std,均值为0，标准差为1\n",
    "    mean_value=np.mean(input,0)\n",
    "    std_diff=np.std(input,0)\n",
    "    output=(input-mean_value)/std_diff\n",
    "    # print(output)\n",
    "    # print(np.mean(output,0))\n",
    "    return output\n",
    "\n",
    "def loss_func(x_label,y_label,theta):\n",
    "    J = np.mean(np.power((np.dot(x_label,theta)-y_label),2))/2\n",
    "#     J = np.sum(np.power((np.dot(x_label,theta)-y_label),2))/(len(y_label)*2)\n",
    "    return J\n",
    "\n",
    "\n",
    "def gradient_descent(y_label,x_label,theta,lr,num_iters):\n",
    "    # 梯度下降，找最好的theta值，使收敛\n",
    "\n",
    "    # 用来记录所有计算出的损失，别问为啥用J，吴恩达用的就是J，如机器学习17页\n",
    "    J_history=np.zeros((num_iters,1))\n",
    "    theta[0]=7\n",
    "    theta[1]=5\n",
    "\n",
    "\n",
    "    for i in range(num_iters):\n",
    "        # hypothesis的定义见机器学习第16页，可以理解为你的方程\n",
    "        hypothesis=np.dot(x_label,theta)\n",
    "\n",
    "        # 这个公式的推导见P27\n",
    "        # theta:2*1\n",
    "        temp_theta=theta-(lr/len(x_label))*np.dot(np.transpose(x_label),(hypothesis-y_label))\n",
    "\n",
    "        # temp=(lr/len(x_label))*np.sum(np.dot(np.transpose(x_label),(hypothesis-y_label)))\n",
    "        # print('aaaaaaaaa',temp.shape)\n",
    "        # print(temp)\n",
    "        theta=temp_theta\n",
    "        J_history[i]=loss_func(x_label,y_label,theta)\n",
    "\n",
    "    return theta,J_history\n",
    "\n",
    "    print(hypothesis)\n",
    "\n",
    "def line_regression(lr,num_iters):\n",
    "    data=load_file('house_price_one_np.txt')\n",
    "    # print(data)\n",
    "    price=data[:,0].reshape(-1,1)\n",
    "    square=data[:,1].reshape(-1,1)\n",
    "    # 或者可以这样写，保证两个维度的值有效\n",
    "    # square=data[:,1::]\n",
    "    # for index,value in enumerate(price):\n",
    "    #     print(square[index],value)\n",
    "    # print(price.shape,\",\",square.shape)\n",
    "    # print(type(price),type(square))\n",
    "    # 用哪种效果更好呢？\n",
    "    # price=mean_normalization_min_man(price)\n",
    "    price=mean_normalization_z_score(price)\n",
    "    square=mean_normalization_z_score(square)\n",
    "    # 添加一个bias,与吴恩达表示一致，机器学习16页，bias在前\n",
    "    square=np.hstack((np.ones((len(square),1)),square))\n",
    "    # print(square.shape)\n",
    "#     print(square)\n",
    "    # 有几个参数就要有几个theta\n",
    "    num_theta=square.shape[1] #2 y=ax+b y=theta1 + theta2 * x\n",
    "    # 三行一列\n",
    "    theta=np.zeros((num_theta,1))\n",
    "\n",
    "    theta_new,J_history=gradient_descent(price,square,theta,lr,num_iters)\n",
    "    print(theta_new)\n",
    "    print(J_history[-1])\n",
    "    return  theta_new,J_history\n",
    "\n",
    "\n",
    "lr=0.01\n",
    "num_iters=400\n",
    "\n",
    "\n",
    "theta_result,J_h=line_regression(lr,num_iters)\n",
    "\n",
    "plt.plot(np.arange(num_iters),J_h)"
   ]
  },
  {
   "cell_type": "code",
   "execution_count": 10,
   "metadata": {
    "pycharm": {
     "name": "#%%\n"
    }
   },
   "outputs": [
    {
     "name": "stdout",
     "output_type": "stream",
     "text": [
      "<class 'tuple'>\n",
      "8.108491803554523  aa  4.978963948154446\n",
      "theta: (array([8.1084918 , 4.97896395]), 3)\n"
     ]
    },
    {
     "data": {
      "text/plain": "<Figure size 432x288 with 1 Axes>",
      "image/png": "[encoded data removed]"
     },
     "metadata": {
      "needs_background": "light"
     },
     "output_type": "display_data"
    }
   ],
   "source": [
    "from scipy.optimize import leastsq\n",
    "import numpy as np\n",
    "import matplotlib.pyplot as plt\n",
    "\n",
    "def loss_func(theta, price, square):\n",
    "#     J = np.mean(np.power((np.dot(x_label,theta)-y_label),2))/2\n",
    "#     J = np.sum(np.power((np.dot(x_label,theta)-y_label),2))/(len(y_label)*2)\n",
    "#     print('theta,',theta.size)\n",
    "#     print('square',square.shape)\n",
    "#     print('price',price.shape)\n",
    "    \n",
    "#     J=np.power((np.dot(square,theta)-price),2)\n",
    "    y=theta[0]+theta[1]*square\n",
    "#     y=np.dot(square,theta)\n",
    "    J=price-y\n",
    "#     print('y shape',y.shape)\n",
    "#     print('J',J.shape)\n",
    "#     print(J)\n",
    "#     print(type(theta))\n",
    "    return J\n",
    "def func(theta,x):\n",
    "    return theta[1]*x+theta[0]\n",
    "    \n",
    "\n",
    "def load_file(file_name):\n",
    "    if file_name.endswith('.txt'):\n",
    "        return np.loadtxt(file_name)\n",
    "    elif file_name.endswith('.npy'):\n",
    "        return np.load(file_name)\n",
    "    else:\n",
    "        print('unsupport file type')\n",
    "        \n",
    "\n",
    "def main():\n",
    "    data=load_file('house_price_one_np.txt')\n",
    "    # print(data)\n",
    "    price=data[:,0].reshape(1,-1)[0]\n",
    "    square=data[:,1].reshape(1,-1)[0]\n",
    "#     print(type(price))\n",
    "#     print(type(square))\n",
    "    \n",
    "    theta_init=[0,0]\n",
    "#     theta_init=np.array(theta_init).reshape(-1,1)\n",
    "#     print(theta_init.size)\n",
    "#     print(square.shape)\n",
    "#     leastsq不能处理二维数据，请拆分\n",
    "    theta=leastsq(loss_func,theta_init,args=(price,square))\n",
    "#     print(theta[1]*square)\n",
    "    print(type(theta))\n",
    "    print(theta[0][0],' aa ',theta[0][1])\n",
    "    y_fit=theta[0][1]*square+theta[0][0]\n",
    "    plt.scatter(square,price,color='r')\n",
    "    plt.plot(square,y_fit)\n",
    "    return theta\n",
    "    \n",
    "if __name__=='__main__':\n",
    "    theta = main()\n",
    "    print('theta:',theta)\n",
    "\n"
   ]
  },
  {
   "cell_type": "markdown",
   "metadata": {
    "pycharm": {
     "name": "#%% md\n"
    }
   },
   "source": [
    "import numpy as np\n",
    "def mean_normalization_z_score(input):\n",
    "    # out=(x-x_mean)/x_std,均值为0，标准差为1\n",
    "    mean_value=np.mean(input,0)\n",
    "    std_diff=np.std(input,0)\n",
    "    output=(input-mean_value)/std_diff\n",
    "    # print(output)\n",
    "    # print(np.mean(output,0))\n",
    "    return output\n",
    "\n",
    "a1=np.array([1,10,100])\n",
    "a2=np.array([0.01,0.1,1])\n",
    "a3=np.array([-11000,0.0000001,100000])\n",
    "print(mean_normalization_z_score(a1))\n",
    "print(mean_normalization_z_score(a2))\n",
    "print(mean_normalization_z_score(a3))\n",
    "aaa=np.zeros((100,1))\n",
    "print(aaa.shape)"
   ]
  },
  {
   "cell_type": "code",
   "execution_count": null,
   "outputs": [],
   "source": [
    "ls=[1,2,3,4,5]\n",
    "a=3\n",
    "print(ls+a)"
   ],
   "metadata": {
    "collapsed": false,
    "pycharm": {
     "name": "#%%\n"
    }
   }
  },
  {
   "cell_type": "code",
   "execution_count": 91,
   "metadata": {},
   "outputs": [
    {
     "ename": "TypeError",
     "evalue": "can only concatenate list (not \"int\") to list",
     "output_type": "error",
     "traceback": [
      "\u001B[1;31m---------------------------------------------------------------------------\u001B[0m",
      "\u001B[1;31mTypeError\u001B[0m                                 Traceback (most recent call last)",
      "\u001B[1;32m<ipython-input-91-5b0303ed88e4>\u001B[0m in \u001B[0;36m<module>\u001B[1;34m\u001B[0m\n\u001B[0;32m      1\u001B[0m \u001B[0mls\u001B[0m\u001B[1;33m=\u001B[0m\u001B[1;33m[\u001B[0m\u001B[1;36m1\u001B[0m\u001B[1;33m,\u001B[0m\u001B[1;36m2\u001B[0m\u001B[1;33m,\u001B[0m\u001B[1;36m3\u001B[0m\u001B[1;33m,\u001B[0m\u001B[1;36m4\u001B[0m\u001B[1;33m,\u001B[0m\u001B[1;36m5\u001B[0m\u001B[1;33m]\u001B[0m\u001B[1;33m\u001B[0m\u001B[1;33m\u001B[0m\u001B[0m\n\u001B[0;32m      2\u001B[0m \u001B[0ma\u001B[0m\u001B[1;33m=\u001B[0m\u001B[1;36m3\u001B[0m\u001B[1;33m\u001B[0m\u001B[1;33m\u001B[0m\u001B[0m\n\u001B[1;32m----> 3\u001B[1;33m \u001B[0mprint\u001B[0m\u001B[1;33m(\u001B[0m\u001B[0mls\u001B[0m\u001B[1;33m+\u001B[0m\u001B[0ma\u001B[0m\u001B[1;33m)\u001B[0m\u001B[1;33m\u001B[0m\u001B[1;33m\u001B[0m\u001B[0m\n\u001B[0m",
      "\u001B[1;31mTypeError\u001B[0m: can only concatenate list (not \"int\") to list"
     ]
    }
   ],
   "source": [
    "ls=[1,2,3,4,5]\n",
    "a=3\n",
    "print(ls+a)"
   ]
  }
 ],
 "metadata": {
  "kernelspec": {
   "display_name": "Python 3",
   "language": "python",
   "name": "python3"
  },
  "language_info": {
   "codemirror_mode": {
    "name": "ipython",
    "version": 3
   },
   "file_extension": ".py",
   "mimetype": "text/x-python",
   "name": "python",
   "nbconvert_exporter": "python",
   "pygments_lexer": "ipython3",
   "version": "3.7.7"
  }
 },
 "nbformat": 4,
 "nbformat_minor": 1
}