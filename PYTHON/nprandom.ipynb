{
 "cells": [
  {
   "cell_type": "markdown",
   "metadata": {
    "collapsed": true,
    "pycharm": {
     "name": "#%% md\n"
    }
   },
   "source": [
    "用来记录一些numpy的随机数操作"
   ]
  },
  {
   "cell_type": "code",
   "execution_count": 4,
   "outputs": [
    {
     "name": "stdout",
     "output_type": "stream",
     "text": [
      "randint:\n",
      " [[2 6 8 1]\n",
      " [1 8 7 6]\n",
      " [6 3 3 6]\n",
      " [2 4 5 8]]\n",
      "uniform:\n",
      " [[8.07949138 2.37214156 7.54019823 2.5598809 ]\n",
      " [5.09572952 4.54629606 9.59168317 6.20557938]\n",
      " [9.28686819 6.69410049 1.87796213 3.19344596]\n",
      " [9.25109243 7.66875118 3.67416537 3.19554192]]\n",
      "[[0.09920694 0.17318795 0.11420984 0.08302919]\n",
      " [0.17143073 0.93094947 0.36059996 0.09266486]\n",
      " [0.82636121 0.35136712 0.14105796 0.78801245]\n",
      " [0.5313128  0.84625043 0.17935904 0.14440943]]\n"
     ]
    }
   ],
   "source": [
    "import numpy as np\n",
    "# 打印范围内的随机整数，\n",
    "np.random.seed(2222)\n",
    "print('randint:\\n',np.random.randint(1,10,(4,4)))"
   ],
   "metadata": {
    "collapsed": false,
    "pycharm": {
     "name": "#%%\n"
    }
   }
  },
  {
   "cell_type": "code",
   "execution_count": null,
   "outputs": [],
   "source": [
    "import numpy as np\n",
    "# 打印范围内的随机小数\n",
    "np.random.seed(2222)\n",
    "print('uniform:\\n',np.random.uniform(1,10,(4,4)))"
   ],
   "metadata": {
    "collapsed": false,
    "pycharm": {
     "name": "#%%\n"
    }
   }
  },
  {
   "cell_type": "code",
   "execution_count": 5,
   "outputs": [
    {
     "name": "stdout",
     "output_type": "stream",
     "text": [
      "[[0.02241385 0.62701852 0.91942832 0.39493572]\n",
      " [0.82975512 0.55458911 0.46507489 0.47675339]\n",
      " [0.06602558 0.1965233  0.53609115 0.74918278]\n",
      " [0.82577245 0.64388717 0.54649585 0.87074059]]\n"
     ]
    }
   ],
   "source": [
    "import numpy as np\n",
    "#[0,1)范围内的随机数\n",
    "np.random.seed(2222)\n",
    "print(np.random.random((4,4)))"
   ],
   "metadata": {
    "collapsed": false,
    "pycharm": {
     "name": "#%%\n"
    }
   }
  },
  {
   "cell_type": "code",
   "execution_count": 101,
   "outputs": [
    {
     "name": "stdout",
     "output_type": "stream",
     "text": [
      "choice: ['b' 'd' 'a']\n"
     ]
    }
   ],
   "source": [
    "import numpy as np\n",
    "# 从中选择一个\n",
    "# np.random.seed(2222)\n",
    "print('choice:',np.random.choice(['a','b','b','d'],3))"
   ],
   "metadata": {
    "collapsed": false,
    "pycharm": {
     "name": "#%%\n"
    }
   }
  },
  {
   "cell_type": "code",
   "execution_count": 40,
   "outputs": [
    {
     "name": "stdout",
     "output_type": "stream",
     "text": [
      "randn: [[[-0.94079146  1.01295397  0.46458472]\n",
      "  [ 0.71528586  0.5497356  -1.22573198]]]\n"
     ]
    }
   ],
   "source": [
    "import numpy as np\n",
    "# 根据给定的形状获得随机数\n",
    "# 服从正态分布\n",
    "np.random.seed(2222)\n",
    "print('randn:',np.random.randn(1,2,3))"
   ],
   "metadata": {
    "collapsed": false,
    "pycharm": {
     "name": "#%%\n"
    }
   }
  },
  {
   "cell_type": "code",
   "execution_count": 47,
   "outputs": [
    {
     "name": "stdout",
     "output_type": "stream",
     "text": [
      "randn: [[[0.72720018 0.28898549 0.84958831]\n",
      "  [0.72706081 0.20943945 0.63031518]]]\n"
     ]
    }
   ],
   "source": [
    "import numpy as np\n",
    "# 根据给定的形状获得[0,1)之间的随机数\n",
    "np.random.seed(2222)\n",
    "print('rand:',np.random.rand(1,2,3))"
   ],
   "metadata": {
    "collapsed": false,
    "pycharm": {
     "name": "#%%\n"
    }
   }
  }
 ],
 "metadata": {
  "kernelspec": {
   "display_name": "Python 3",
   "language": "python",
   "name": "python3"
  },
  "language_info": {
   "codemirror_mode": {
    "name": "ipython",
    "version": 2
   },
   "file_extension": ".py",
   "mimetype": "text/x-python",
   "name": "python",
   "nbconvert_exporter": "python",
   "pygments_lexer": "ipython2",
   "version": "2.7.6"
  }
 },
 "nbformat": 4,
 "nbformat_minor": 0
}