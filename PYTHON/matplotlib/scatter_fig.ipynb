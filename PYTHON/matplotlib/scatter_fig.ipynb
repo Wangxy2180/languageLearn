{
 "cells": [
  {
   "cell_type": "markdown",
   "metadata": {
    "collapsed": true,
    "pycharm": {
     "name": "#%% md\n"
    }
   },
   "source": [
    "散点图"
   ]
  },
  {
   "cell_type": "code",
   "execution_count": null,
   "outputs": [],
   "source": [
    "import numpy as np\n",
    "import matplotlib.pyplot as plt\n",
    "\n",
    "N=50\n",
    "\n",
    "x=np.linspace(0.,10.,N)\n",
    "y=np.sin(x)**2 +np.cos(x)\n",
    "\n",
    "plt.figure()\n",
    "plt.scatter(x,y)\n"
   ],
   "metadata": {
    "collapsed": false,
    "pycharm": {
     "name": "#%%\n"
    }
   }
  },
  {
   "cell_type": "markdown",
   "source": [
    "散点图 美观一点"
   ],
   "metadata": {
    "collapsed": false
   }
  },
  {
   "cell_type": "code",
   "execution_count": 1,
   "outputs": [
    {
     "data": {
      "text/plain": "<Figure size 432x288 with 1 Axes>",
      "image/png": "[encoded data removed]"
     },
     "metadata": {
      "needs_background": "light"
     },
     "output_type": "display_data"
    }
   ],
   "source": [
    "import numpy as np\n",
    "import matplotlib.pyplot as plt\n",
    "\n",
    "N=50\n",
    "\n",
    "# $$指tex公式\n",
    "x=np.linspace(0.,10.,N)\n",
    "y=np.sin(x)**2 +np.cos(x)\n",
    "\n",
    "# label 图例 s 点的尺寸\n",
    "plt.scatter(x,y,s=10,label=r'$y = sin^2(x) + cos(x)$',color='g')\n",
    "# 比例尺相同\n",
    "plt.axis('equal')\n",
    "# 创建标签\n",
    "plt.xlabel(r'x (rad)')\n",
    "plt.ylabel(r'y')\n",
    "# 显示图例 也就是plt.scatter中的label\n",
    "plt.legend()\n",
    "\n",
    "# 保存图片\n",
    "plt.savefig('scatter.png',dpi=300,bbox_inches='tight',facecolor='w')\n",
    "\n",
    "\n",
    "\n"
   ],
   "metadata": {
    "collapsed": false,
    "pycharm": {
     "name": "#%%\n"
    }
   }
  }
 ],
 "metadata": {
  "kernelspec": {
   "display_name": "Python 3",
   "language": "python",
   "name": "python3"
  },
  "language_info": {
   "codemirror_mode": {
    "name": "ipython",
    "version": 2
   },
   "file_extension": ".py",
   "mimetype": "text/x-python",
   "name": "python",
   "nbconvert_exporter": "python",
   "pygments_lexer": "ipython2",
   "version": "2.7.6"
  }
 },
 "nbformat": 4,
 "nbformat_minor": 0
}