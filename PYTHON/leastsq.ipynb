{
 "cells": [
  {
   "cell_type": "markdown",
   "source": [
    "最小二乘拟合一次函数"
   ],
   "metadata": {
    "collapsed": false,
    "pycharm": {
     "name": "#%% md\n"
    }
   }
  },
  {
   "cell_type": "code",
   "execution_count": null,
   "outputs": [],
   "source": [
    "import numpy as np\n",
    "import matplotlib.pyplot as plt\n",
    "from scipy.optimize import leastsq\n",
    "\n",
    "def func(abc,x):\n",
    "    y=abc[0]*x+abc[1]\n",
    "    return y\n",
    "\n",
    "def loss(abc,x,y):\n",
    "    return y-func(abc,x)\n",
    "\n",
    "# 准备数据，x和带噪声的y\n",
    "abc=[1,2]\n",
    "x=np.linspace(0,30,50)\n",
    "noise=[np.random.random() for _ in range(50)]\n",
    "y_noise=func(abc,x)+noise\n",
    "\n",
    "# 开始拟合\n",
    "# 初始化拟合参数\n",
    "fit_param=[1,2]\n",
    "# 最小二乘，目标就是使loss的值最小\n",
    "para=leastsq(loss,fit_param,args=(x,y_noise))\n",
    "print(para)\n",
    "y_fitted=func(para[0],x)\n",
    "# 绘图\n",
    "plt.figure(figsize=(10, 5), facecolor='w')\n",
    "\n",
    "plt.grid(b=True)\n",
    "plt.axis('equal')\n",
    "\n",
    "plt.scatter(x,y_noise,color='r')\n",
    "plt.plot(x,y_fitted,color='g')"
   ],
   "metadata": {
    "collapsed": false,
    "pycharm": {
     "name": "#%%\n"
    }
   }
  },
  {
   "cell_type": "markdown",
   "source": [
    "最小二乘拟合二次曲线"
   ],
   "metadata": {
    "collapsed": false,
    "pycharm": {
     "name": "#%% md\n"
    }
   }
  },
  {
   "cell_type": "code",
   "execution_count": null,
   "metadata": {
    "collapsed": true
   },
   "outputs": [],
   "source": [
    "import numpy as np\n",
    "import matplotlib.pyplot as plt\n",
    "from scipy.optimize import leastsq\n",
    "\n",
    "# 创建一元二次函数的值\n",
    "def func(abc,x):\n",
    "    return abc[0]*x**2+abc[1]*x+abc[2]\n",
    "\n",
    "# 损失函数\n",
    "def error(abc,x,y):\n",
    "    return func(abc,x)-y;\n",
    "\n",
    "# 创建一元二次函数的拟合参数\n",
    "x=np.linspace(-10,10,100)\n",
    "# 原始的abc参数 y=ax^2+bx+c\n",
    "abc=[-2,5,10]\n",
    "# 创建噪声\n",
    "noise=np.random.randn(len(x))\n",
    "# 将噪声加入到正常的y值中\n",
    "y=func(abc,x)+noise*2\n",
    "\n",
    "fit_init_param=[0.1,-0.1,100]\n",
    "para=leastsq(error,fit_init_param,args=(x,y))\n",
    "\n",
    "y_fitted=func(para[0],x)\n",
    "\n",
    "plt.plot(x,y,'r',label='origin_with_noise')\n",
    "plt.plot(x,y_fitted,'-b',label='fit')\n",
    "plt.legend()\n",
    "print(para)\n"
   ]
  },
  {
   "cell_type": "markdown",
   "source": [
    "多项式拟合 下边的似乎有问题"
   ],
   "metadata": {
    "collapsed": false,
    "pycharm": {
     "name": "#%% md\n"
    }
   }
  },
  {
   "cell_type": "code",
   "execution_count": 51,
   "outputs": [
    {
     "data": {
      "text/plain": "[<matplotlib.lines.Line2D at 0x206071dff88>]"
     },
     "execution_count": 51,
     "metadata": {},
     "output_type": "execute_result"
    },
    {
     "data": {
      "text/plain": "<Figure size 432x288 with 1 Axes>",
      "image/png": "[encoded data removed]"
     },
     "metadata": {
      "needs_background": "light"
     },
     "output_type": "display_data"
    }
   ],
   "source": [
    "import numpy as np\n",
    "import matplotlib.pyplot as plt\n",
    "import scipy\n",
    "def func(abc,x):\n",
    "    y=abc[0]*x**2+abc[1]*x+abc[2]\n",
    "    return y\n",
    "\n",
    "abc=[1,-4,5]\n",
    "x=np.linspace(0,30,30)\n",
    "# 下边的random必须加for，否则维数不对\n",
    "# noise=[np.random.random() for _ in range(30)]\n",
    "#\n",
    "noise=np.random.randn(len(x))\n",
    "y_noise=func(abc,x)-noise*5\n",
    "\n",
    "a=np.polyfit(x,y_noise,deg=2)\n",
    "b=np.poly1d(a)\n",
    "# np.poly1d\n",
    "y_fitted=func(a,x)\n",
    "# y_fitted=b(x)\n",
    "# print(a)\n",
    "# print(b)\n",
    "\n",
    "plt.scatter(x,y_noise,color='r')\n",
    "plt.plot(x,y_fitted,color='g')"
   ],
   "metadata": {
    "collapsed": false,
    "pycharm": {
     "name": "#%%\n"
    }
   }
  }
 ],
 "metadata": {
  "kernelspec": {
   "display_name": "Python 3",
   "language": "python",
   "name": "python3"
  },
  "language_info": {
   "codemirror_mode": {
    "name": "ipython",
    "version": 2
   },
   "file_extension": ".py",
   "mimetype": "text/x-python",
   "name": "python",
   "nbconvert_exporter": "python",
   "pygments_lexer": "ipython2",
   "version": "2.7.6"
  }
 },
 "nbformat": 4,
 "nbformat_minor": 0
}