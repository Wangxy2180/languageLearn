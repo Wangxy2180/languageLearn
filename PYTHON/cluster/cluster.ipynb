{
 "cells": [
  {
   "cell_type": "markdown",
   "source": [
    "聚类 [参考](https://www.jb51.net/article/164105.htm)\n",
    "\n",
    "k-means"
   ],
   "metadata": {
    "collapsed": false,
    "pycharm": {
     "name": "#%% md\n"
    }
   }
  },
  {
   "cell_type": "code",
   "execution_count": 4,
   "metadata": {
    "collapsed": true
   },
   "outputs": [
    {
     "data": {
      "text/plain": "<matplotlib.collections.PathCollection at 0x21d25502f88>"
     },
     "execution_count": 4,
     "metadata": {},
     "output_type": "execute_result"
    },
    {
     "data": {
      "text/plain": "<Figure size 432x288 with 1 Axes>",
      "image/png": "[encoded data removed]"
     },
     "metadata": {
      "needs_background": "light"
     },
     "output_type": "display_data"
    }
   ],
   "source": [
    "from sklearn.cluster import KMeans\n",
    "from sklearn import datasets\n",
    "import matplotlib.pyplot as plt\n",
    "import numpy as np\n",
    "\n",
    "iris = datasets.load_iris()\n",
    "# print(iris)\n",
    "X = iris.data[:, :4] # #表示我们取特征空间中的4个维度\n",
    "# print(X)\n",
    "\n",
    "# 构造聚类器\n",
    "clu=KMeans(n_clusters=3)\n",
    "clu.fit(X)\n",
    "label_pred=clu.labels_\n",
    "\n",
    "x0=X[label_pred==0]\n",
    "x1=X[label_pred==1]\n",
    "x2=X[label_pred==2]\n",
    "\n",
    "plt.scatter(x0[:,0],x0[:,1],c='red',marker='o',label='label0')\n",
    "plt.scatter(x1[:,0],x1[:,1],c='blue',marker='*',label='label1')\n",
    "plt.scatter(x2[:,0],x2[:,1],c='green',marker='+',label='label2')"
   ]
  }
 ],
 "metadata": {
  "kernelspec": {
   "display_name": "Python 3",
   "language": "python",
   "name": "python3"
  },
  "language_info": {
   "codemirror_mode": {
    "name": "ipython",
    "version": 2
   },
   "file_extension": ".py",
   "mimetype": "text/x-python",
   "name": "python",
   "nbconvert_exporter": "python",
   "pygments_lexer": "ipython2",
   "version": "2.7.6"
  }
 },
 "nbformat": 4,
 "nbformat_minor": 0
}